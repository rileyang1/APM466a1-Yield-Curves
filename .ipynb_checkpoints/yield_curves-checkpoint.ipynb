{
 "cells": [
  {
   "cell_type": "code",
   "execution_count": 1,
   "id": "3dec0656-0c0d-4b09-bd7d-725dbc1f5ad1",
   "metadata": {},
   "outputs": [],
   "source": [
    "from selenium import webdriver\n",
    "from selenium.webdriver.chrome.options import Options\n",
    "from selenium.webdriver.common.by import By\n",
    "\n",
    "option = Options()\n",
    "option.headless = False\n",
    "driver = webdriver.Chrome(options=option)\n",
    "bond_urls = []\n",
    "start_urls = ['https://markets.businessinsider.com/bonds/finder?borrower=71&maturity=shortterm&yield=&bondtype=2%2/c3%2/c4%2/c16&coupon=&currency=184&rating=&country=19',\n",
    "               'https://markets.businessinsider.com/bonds/finder?p=2&borrower=71&maturity=shortterm&bondtype=2%/2c3%/2c4%2/c16&currency=184&country=19',\n",
    "               'https://markets.businessinsider.com/bonds/finder?borrower=71&maturity=midterm&yield=&bondtype=2%2/c3%2/c4%2/c16&coupon=&currency=184&rating=&country=19']\n",
    "\n",
    "# get all individual bond urls\n",
    "for url in start_urls:\n",
    "    driver.get(url)\n",
    "    tbody = driver.find_element(By.XPATH, \n",
    "    \"//*[@id='bond-searchresults-container']/div/div/div[1]/div[1]/div[2]/div/div/div/table/tbody\")\n",
    "    hrefs = tbody.find_elements(By.TAG_NAME, 'a')\n",
    "    for elem in hrefs:\n",
    "        bond_urls.append(elem.get_attribute(\"href\"))"
   ]
  },
  {
   "cell_type": "code",
   "execution_count": 169,
   "id": "77ea69c2-6330-4849-a463-bdb8b17fa2fa",
   "metadata": {},
   "outputs": [],
   "source": [
    "# scrape historical bond prices in each url\n",
    "from selenium.webdriver.support.ui import WebDriverWait\n",
    "from selenium.webdriver.support import expected_conditions as EC\n",
    "import datetime as dt\n",
    "import pandas as pd\n",
    "import time\n",
    "\n",
    "url = bond_urls[0]\n",
    "option = Options()\n",
    "option.headless = False\n",
    "driver = webdriver.Chrome(options=option)\n",
    "driver.get(url)\n",
    "\n",
    "chart = WebDriverWait(driver, 20).until(\n",
    "    EC.presence_of_element_located((By.XPATH,\n",
    "                                    \"//*[@id='DetailChart']/app-root/div[2]/app-detail-chart/div[2]/div[13]/div\")))\n",
    "change_view_button = WebDriverWait(driver, 20).until(\n",
    "    EC.element_to_be_clickable((By.XPATH, \n",
    "                                \"//*[@id='DetailChart']/app-root/div[2]/div/div[1]/div/div[1]/div[2]/div/div/div/div/div[3]\")))\n",
    "change_view_button.click()\n",
    "\n",
    "loc = chart.location\n",
    "size = chart.size\n",
    "\n",
    "action = webdriver.ActionChains(driver)\n",
    "action.move_to_element_with_offset(chart, size['width'], 0).perform()\n",
    "time.sleep(10)\n",
    "\n",
    "date = driver.find_element(By.XPATH,\n",
    "                          \"//*[@id='DetailChart']/app-root/div[2]/app-detail-chart/div[2]/div[9]\")\n",
    "# close = driver.find_element(By.XPATH,\n",
    "#                           \"//*[@id='DetailChart']/app-root/div[2]/app-detail-chart/div[2]/stx-hu-tooltip/stx-hu-tooltip-field[2]/stx-hu-tooltip-field-value\").text\n",
    "\n",
    "# print(type(date))\n",
    "# print(date)\n",
    "# print(date.text)"
   ]
  },
  {
   "cell_type": "code",
   "execution_count": null,
   "id": "9ca14122-22ea-4c61-a452-e67068a43bf1",
   "metadata": {},
   "outputs": [],
   "source": []
  },
  {
   "cell_type": "code",
   "execution_count": null,
   "id": "2be185d0-5569-4c34-8271-3c0dd0d68c3f",
   "metadata": {},
   "outputs": [],
   "source": []
  },
  {
   "cell_type": "code",
   "execution_count": null,
   "id": "bbff0e5e-f7b5-4631-9ea3-0638bcc917c3",
   "metadata": {},
   "outputs": [],
   "source": []
  }
 ],
 "metadata": {
  "kernelspec": {
   "display_name": "Python 3 (ipykernel)",
   "language": "python",
   "name": "python3"
  },
  "language_info": {
   "codemirror_mode": {
    "name": "ipython",
    "version": 3
   },
   "file_extension": ".py",
   "mimetype": "text/x-python",
   "name": "python",
   "nbconvert_exporter": "python",
   "pygments_lexer": "ipython3",
   "version": "3.9.1"
  }
 },
 "nbformat": 4,
 "nbformat_minor": 5
}
